{
 "cells": [
  {
   "cell_type": "code",
   "execution_count": 1,
   "metadata": {},
   "outputs": [],
   "source": [
    "import tensorflow as tf\n",
    "from tensorflow import keras"
   ]
  },
  {
   "cell_type": "code",
   "execution_count": 2,
   "metadata": {},
   "outputs": [
    {
     "name": "stdout",
     "output_type": "stream",
     "text": [
      "Downloading data from https://storage.googleapis.com/tensorflow/tf-keras-datasets/train-labels-idx1-ubyte.gz\n",
      "32768/29515 [=================================] - 0s 1us/step\n",
      "Downloading data from https://storage.googleapis.com/tensorflow/tf-keras-datasets/train-images-idx3-ubyte.gz\n",
      "26427392/26421880 [==============================] - 2s 0us/step\n",
      "Downloading data from https://storage.googleapis.com/tensorflow/tf-keras-datasets/t10k-labels-idx1-ubyte.gz\n",
      "8192/5148 [===============================================] - 0s 0us/step\n",
      "Downloading data from https://storage.googleapis.com/tensorflow/tf-keras-datasets/t10k-images-idx3-ubyte.gz\n",
      "4423680/4422102 [==============================] - 1s 0us/step\n"
     ]
    }
   ],
   "source": [
    "fashion_mnist = keras.datasets.fashion_mnist\n",
    "(X_train_full, y_train_full), (X_test, y_test) = fashion_mnist.load_data()"
   ]
  },
  {
   "cell_type": "code",
   "execution_count": 10,
   "metadata": {},
   "outputs": [
    {
     "data": {
      "text/plain": [
       "(60000, 28, 28)"
      ]
     },
     "execution_count": 10,
     "metadata": {},
     "output_type": "execute_result"
    }
   ],
   "source": [
    "X_train_full.shape"
   ]
  },
  {
   "cell_type": "code",
   "execution_count": 11,
   "metadata": {},
   "outputs": [
    {
     "data": {
      "text/plain": [
       "dtype('uint8')"
      ]
     },
     "execution_count": 11,
     "metadata": {},
     "output_type": "execute_result"
    }
   ],
   "source": [
    "X_train_full.dtype"
   ]
  },
  {
   "cell_type": "code",
   "execution_count": 12,
   "metadata": {},
   "outputs": [
    {
     "data": {
      "text/plain": [
       "array([[  0,   0,   0,   0,   0,   0,   0,   0,   0,   0,   0,   0,   0,\n",
       "          0,   0,   0,   0,   0,   0,   0,   0,   0,   0,   0,   0,   0,\n",
       "          0,   0],\n",
       "       [  0,   0,   0,   0,   0,   0,   0,   0,   0,   0,   0,   0,   0,\n",
       "          0,   0,   0,   0,   0,   0,   0,   0,   0,   0,   0,   0,   0,\n",
       "          0,   0],\n",
       "       [  0,   0,   0,   0,   0,   0,   0,   0,   0,   0,   0,   0,   0,\n",
       "          0,   0,   0,   0,   0,   0,   0,   0,   0,   0,   0,   0,   0,\n",
       "          0,   0],\n",
       "       [  0,   0,   0,   0,   0,   0,   0,   0,   0,   0,   0,   0,   1,\n",
       "          0,   0,  13,  73,   0,   0,   1,   4,   0,   0,   0,   0,   1,\n",
       "          1,   0],\n",
       "       [  0,   0,   0,   0,   0,   0,   0,   0,   0,   0,   0,   0,   3,\n",
       "          0,  36, 136, 127,  62,  54,   0,   0,   0,   1,   3,   4,   0,\n",
       "          0,   3],\n",
       "       [  0,   0,   0,   0,   0,   0,   0,   0,   0,   0,   0,   0,   6,\n",
       "          0, 102, 204, 176, 134, 144, 123,  23,   0,   0,   0,   0,  12,\n",
       "         10,   0],\n",
       "       [  0,   0,   0,   0,   0,   0,   0,   0,   0,   0,   0,   0,   0,\n",
       "          0, 155, 236, 207, 178, 107, 156, 161, 109,  64,  23,  77, 130,\n",
       "         72,  15],\n",
       "       [  0,   0,   0,   0,   0,   0,   0,   0,   0,   0,   0,   1,   0,\n",
       "         69, 207, 223, 218, 216, 216, 163, 127, 121, 122, 146, 141,  88,\n",
       "        172,  66],\n",
       "       [  0,   0,   0,   0,   0,   0,   0,   0,   0,   1,   1,   1,   0,\n",
       "        200, 232, 232, 233, 229, 223, 223, 215, 213, 164, 127, 123, 196,\n",
       "        229,   0],\n",
       "       [  0,   0,   0,   0,   0,   0,   0,   0,   0,   0,   0,   0,   0,\n",
       "        183, 225, 216, 223, 228, 235, 227, 224, 222, 224, 221, 223, 245,\n",
       "        173,   0],\n",
       "       [  0,   0,   0,   0,   0,   0,   0,   0,   0,   0,   0,   0,   0,\n",
       "        193, 228, 218, 213, 198, 180, 212, 210, 211, 213, 223, 220, 243,\n",
       "        202,   0],\n",
       "       [  0,   0,   0,   0,   0,   0,   0,   0,   0,   1,   3,   0,  12,\n",
       "        219, 220, 212, 218, 192, 169, 227, 208, 218, 224, 212, 226, 197,\n",
       "        209,  52],\n",
       "       [  0,   0,   0,   0,   0,   0,   0,   0,   0,   0,   6,   0,  99,\n",
       "        244, 222, 220, 218, 203, 198, 221, 215, 213, 222, 220, 245, 119,\n",
       "        167,  56],\n",
       "       [  0,   0,   0,   0,   0,   0,   0,   0,   0,   4,   0,   0,  55,\n",
       "        236, 228, 230, 228, 240, 232, 213, 218, 223, 234, 217, 217, 209,\n",
       "         92,   0],\n",
       "       [  0,   0,   1,   4,   6,   7,   2,   0,   0,   0,   0,   0, 237,\n",
       "        226, 217, 223, 222, 219, 222, 221, 216, 223, 229, 215, 218, 255,\n",
       "         77,   0],\n",
       "       [  0,   3,   0,   0,   0,   0,   0,   0,   0,  62, 145, 204, 228,\n",
       "        207, 213, 221, 218, 208, 211, 218, 224, 223, 219, 215, 224, 244,\n",
       "        159,   0],\n",
       "       [  0,   0,   0,   0,  18,  44,  82, 107, 189, 228, 220, 222, 217,\n",
       "        226, 200, 205, 211, 230, 224, 234, 176, 188, 250, 248, 233, 238,\n",
       "        215,   0],\n",
       "       [  0,  57, 187, 208, 224, 221, 224, 208, 204, 214, 208, 209, 200,\n",
       "        159, 245, 193, 206, 223, 255, 255, 221, 234, 221, 211, 220, 232,\n",
       "        246,   0],\n",
       "       [  3, 202, 228, 224, 221, 211, 211, 214, 205, 205, 205, 220, 240,\n",
       "         80, 150, 255, 229, 221, 188, 154, 191, 210, 204, 209, 222, 228,\n",
       "        225,   0],\n",
       "       [ 98, 233, 198, 210, 222, 229, 229, 234, 249, 220, 194, 215, 217,\n",
       "        241,  65,  73, 106, 117, 168, 219, 221, 215, 217, 223, 223, 224,\n",
       "        229,  29],\n",
       "       [ 75, 204, 212, 204, 193, 205, 211, 225, 216, 185, 197, 206, 198,\n",
       "        213, 240, 195, 227, 245, 239, 223, 218, 212, 209, 222, 220, 221,\n",
       "        230,  67],\n",
       "       [ 48, 203, 183, 194, 213, 197, 185, 190, 194, 192, 202, 214, 219,\n",
       "        221, 220, 236, 225, 216, 199, 206, 186, 181, 177, 172, 181, 205,\n",
       "        206, 115],\n",
       "       [  0, 122, 219, 193, 179, 171, 183, 196, 204, 210, 213, 207, 211,\n",
       "        210, 200, 196, 194, 191, 195, 191, 198, 192, 176, 156, 167, 177,\n",
       "        210,  92],\n",
       "       [  0,   0,  74, 189, 212, 191, 175, 172, 175, 181, 185, 188, 189,\n",
       "        188, 193, 198, 204, 209, 210, 210, 211, 188, 188, 194, 192, 216,\n",
       "        170,   0],\n",
       "       [  2,   0,   0,   0,  66, 200, 222, 237, 239, 242, 246, 243, 244,\n",
       "        221, 220, 193, 191, 179, 182, 182, 181, 176, 166, 168,  99,  58,\n",
       "          0,   0],\n",
       "       [  0,   0,   0,   0,   0,   0,   0,  40,  61,  44,  72,  41,  35,\n",
       "          0,   0,   0,   0,   0,   0,   0,   0,   0,   0,   0,   0,   0,\n",
       "          0,   0],\n",
       "       [  0,   0,   0,   0,   0,   0,   0,   0,   0,   0,   0,   0,   0,\n",
       "          0,   0,   0,   0,   0,   0,   0,   0,   0,   0,   0,   0,   0,\n",
       "          0,   0],\n",
       "       [  0,   0,   0,   0,   0,   0,   0,   0,   0,   0,   0,   0,   0,\n",
       "          0,   0,   0,   0,   0,   0,   0,   0,   0,   0,   0,   0,   0,\n",
       "          0,   0]], dtype=uint8)"
      ]
     },
     "execution_count": 12,
     "metadata": {},
     "output_type": "execute_result"
    }
   ],
   "source": [
    "X_train_full[0]"
   ]
  },
  {
   "cell_type": "markdown",
   "metadata": {},
   "source": [
    " every image is represented as a 28×28 array rather than a 1D array of size 784. Moreover, the pixel intensities are represented as integers (from 0 to 255) rather than floats (from 0.0 to 255.0)"
   ]
  },
  {
   "cell_type": "code",
   "execution_count": null,
   "metadata": {},
   "outputs": [],
   "source": []
  },
  {
   "cell_type": "code",
   "execution_count": 14,
   "metadata": {},
   "outputs": [],
   "source": [
    "# scaling the input since we are using Gradient Descent\n",
    "X_valid, X_train = X_train_full[:5000] / 255.0, X_train_full[5000:] / 255.0\n",
    "y_valid, y_train = y_train_full[:5000], y_train_full[5000:]"
   ]
  },
  {
   "cell_type": "code",
   "execution_count": 15,
   "metadata": {},
   "outputs": [],
   "source": [
    "# understanding the class labels\n",
    "\n",
    "class_names = [\"T-shirt/top\", \"Trouser\", \"Pullover\", \"Dress\", \"Coat\",\n",
    "                   \"Sandal\", \"Shirt\", \"Sneaker\", \"Bag\", \"Ankle boot\"]"
   ]
  },
  {
   "cell_type": "code",
   "execution_count": 17,
   "metadata": {},
   "outputs": [
    {
     "data": {
      "text/plain": [
       "4"
      ]
     },
     "execution_count": 17,
     "metadata": {},
     "output_type": "execute_result"
    }
   ],
   "source": [
    "y_train[0]"
   ]
  },
  {
   "cell_type": "code",
   "execution_count": 18,
   "metadata": {},
   "outputs": [
    {
     "data": {
      "text/plain": [
       "'Coat'"
      ]
     },
     "execution_count": 18,
     "metadata": {},
     "output_type": "execute_result"
    }
   ],
   "source": [
    "class_names[y_train[0]]"
   ]
  },
  {
   "cell_type": "code",
   "execution_count": null,
   "metadata": {},
   "outputs": [],
   "source": []
  },
  {
   "cell_type": "code",
   "execution_count": 19,
   "metadata": {},
   "outputs": [],
   "source": [
    "# creating a model using the sequential API\n",
    "model = keras.models.Sequential()"
   ]
  },
  {
   "cell_type": "code",
   "execution_count": 20,
   "metadata": {},
   "outputs": [],
   "source": [
    "model.add(keras.layers.Flatten(input_shape=[28,28]))\n",
    "model.add(keras.layers.Dense(300,activation=\"relu\"))\n",
    "model.add(keras.layers.Dense(100, activation=\"relu\"))\n",
    "model.add(keras.layers.Dense(10, activation=\"softmax\"))"
   ]
  },
  {
   "cell_type": "code",
   "execution_count": 21,
   "metadata": {},
   "outputs": [
    {
     "name": "stdout",
     "output_type": "stream",
     "text": [
      "Model: \"sequential\"\n",
      "_________________________________________________________________\n",
      "Layer (type)                 Output Shape              Param #   \n",
      "=================================================================\n",
      "flatten (Flatten)            (None, 784)               0         \n",
      "_________________________________________________________________\n",
      "dense (Dense)                (None, 300)               235500    \n",
      "_________________________________________________________________\n",
      "dense_1 (Dense)              (None, 100)               30100     \n",
      "_________________________________________________________________\n",
      "dense_2 (Dense)              (None, 10)                1010      \n",
      "=================================================================\n",
      "Total params: 266,610\n",
      "Trainable params: 266,610\n",
      "Non-trainable params: 0\n",
      "_________________________________________________________________\n"
     ]
    }
   ],
   "source": [
    "model.summary()"
   ]
  },
  {
   "cell_type": "code",
   "execution_count": 23,
   "metadata": {},
   "outputs": [
    {
     "data": {
      "text/plain": [
       "[<tensorflow.python.keras.layers.core.Flatten at 0x7fbc92a17c90>,\n",
       " <tensorflow.python.keras.layers.core.Dense at 0x7fbc921fc450>,\n",
       " <tensorflow.python.keras.layers.core.Dense at 0x7fbce1e7ebd0>,\n",
       " <tensorflow.python.keras.layers.core.Dense at 0x7fbca1489190>]"
      ]
     },
     "execution_count": 23,
     "metadata": {},
     "output_type": "execute_result"
    }
   ],
   "source": [
    "model.layers"
   ]
  },
  {
   "cell_type": "code",
   "execution_count": 27,
   "metadata": {},
   "outputs": [],
   "source": [
    "# Looking at the weights, and biases of the model\n",
    "weights, biases = model.get_layer('dense_1').get_weights()"
   ]
  },
  {
   "cell_type": "code",
   "execution_count": 28,
   "metadata": {},
   "outputs": [
    {
     "data": {
      "text/plain": [
       "array([[-0.01128004, -0.00735682,  0.09361725, ..., -0.09209834,\n",
       "        -0.08681822, -0.03004577],\n",
       "       [ 0.05650689, -0.00498833,  0.05840374, ..., -0.01784371,\n",
       "        -0.06637096,  0.11309985],\n",
       "       [-0.02546272, -0.08141825,  0.08683679, ..., -0.00883499,\n",
       "        -0.0058987 , -0.06083787],\n",
       "       ...,\n",
       "       [ 0.00953818,  0.03811146, -0.00605261, ...,  0.0470515 ,\n",
       "        -0.05743313,  0.04480235],\n",
       "       [-0.09500621,  0.02215839, -0.05008762, ...,  0.03873315,\n",
       "         0.00718696,  0.09941693],\n",
       "       [ 0.03429104,  0.0424263 , -0.1135316 , ...,  0.11729642,\n",
       "        -0.01590876,  0.03119291]], dtype=float32)"
      ]
     },
     "execution_count": 28,
     "metadata": {},
     "output_type": "execute_result"
    }
   ],
   "source": [
    "weights"
   ]
  },
  {
   "cell_type": "code",
   "execution_count": 29,
   "metadata": {},
   "outputs": [
    {
     "data": {
      "text/plain": [
       "array([0., 0., 0., 0., 0., 0., 0., 0., 0., 0., 0., 0., 0., 0., 0., 0., 0.,\n",
       "       0., 0., 0., 0., 0., 0., 0., 0., 0., 0., 0., 0., 0., 0., 0., 0., 0.,\n",
       "       0., 0., 0., 0., 0., 0., 0., 0., 0., 0., 0., 0., 0., 0., 0., 0., 0.,\n",
       "       0., 0., 0., 0., 0., 0., 0., 0., 0., 0., 0., 0., 0., 0., 0., 0., 0.,\n",
       "       0., 0., 0., 0., 0., 0., 0., 0., 0., 0., 0., 0., 0., 0., 0., 0., 0.,\n",
       "       0., 0., 0., 0., 0., 0., 0., 0., 0., 0., 0., 0., 0., 0., 0.],\n",
       "      dtype=float32)"
      ]
     },
     "execution_count": 29,
     "metadata": {},
     "output_type": "execute_result"
    }
   ],
   "source": [
    "biases"
   ]
  },
  {
   "cell_type": "code",
   "execution_count": 30,
   "metadata": {},
   "outputs": [],
   "source": [
    "#you can set kernel_initializer (kernel is another name for the matrix of connec‐ tion weights) or bias_initializer when creating the layer"
   ]
  },
  {
   "cell_type": "code",
   "execution_count": 31,
   "metadata": {},
   "outputs": [],
   "source": [
    "# Compiling the model\n",
    "model.compile(loss=\"sparse_categorical_crossentropy\",\n",
    "                  optimizer=\"sgd\",\n",
    "                  metrics=[\"accuracy\"])"
   ]
  },
  {
   "cell_type": "code",
   "execution_count": 32,
   "metadata": {},
   "outputs": [
    {
     "name": "stdout",
     "output_type": "stream",
     "text": [
      "Train on 55000 samples, validate on 5000 samples\n",
      "Epoch 1/30\n",
      "55000/55000 [==============================] - 3s 49us/sample - loss: 0.7224 - accuracy: 0.7591 - val_loss: 0.5125 - val_accuracy: 0.8282\n",
      "Epoch 2/30\n",
      "55000/55000 [==============================] - 2s 44us/sample - loss: 0.4948 - accuracy: 0.8273 - val_loss: 0.4814 - val_accuracy: 0.8312\n",
      "Epoch 3/30\n",
      "55000/55000 [==============================] - 2s 43us/sample - loss: 0.4480 - accuracy: 0.8432 - val_loss: 0.4308 - val_accuracy: 0.8482\n",
      "Epoch 4/30\n",
      "55000/55000 [==============================] - 2s 44us/sample - loss: 0.4196 - accuracy: 0.8533 - val_loss: 0.3980 - val_accuracy: 0.8656\n",
      "Epoch 5/30\n",
      "55000/55000 [==============================] - 2s 45us/sample - loss: 0.3999 - accuracy: 0.8596 - val_loss: 0.3863 - val_accuracy: 0.8644\n",
      "Epoch 6/30\n",
      "55000/55000 [==============================] - 2s 44us/sample - loss: 0.3835 - accuracy: 0.8664 - val_loss: 0.3899 - val_accuracy: 0.8616\n",
      "Epoch 7/30\n",
      "55000/55000 [==============================] - 2s 45us/sample - loss: 0.3698 - accuracy: 0.8692 - val_loss: 0.3594 - val_accuracy: 0.8758\n",
      "Epoch 8/30\n",
      "55000/55000 [==============================] - 2s 45us/sample - loss: 0.3577 - accuracy: 0.8731 - val_loss: 0.3653 - val_accuracy: 0.8714\n",
      "Epoch 9/30\n",
      "55000/55000 [==============================] - 2s 44us/sample - loss: 0.3474 - accuracy: 0.8779 - val_loss: 0.3455 - val_accuracy: 0.8770\n",
      "Epoch 10/30\n",
      "55000/55000 [==============================] - 2s 44us/sample - loss: 0.3384 - accuracy: 0.8797 - val_loss: 0.3421 - val_accuracy: 0.8798\n",
      "Epoch 11/30\n",
      "55000/55000 [==============================] - 2s 45us/sample - loss: 0.3288 - accuracy: 0.8836 - val_loss: 0.3403 - val_accuracy: 0.8800\n",
      "Epoch 12/30\n",
      "55000/55000 [==============================] - 2s 45us/sample - loss: 0.3205 - accuracy: 0.8852 - val_loss: 0.3630 - val_accuracy: 0.8720\n",
      "Epoch 13/30\n",
      "55000/55000 [==============================] - 2s 45us/sample - loss: 0.3123 - accuracy: 0.8880 - val_loss: 0.3283 - val_accuracy: 0.8876\n",
      "Epoch 14/30\n",
      "55000/55000 [==============================] - 3s 45us/sample - loss: 0.3065 - accuracy: 0.8904 - val_loss: 0.3214 - val_accuracy: 0.8834\n",
      "Epoch 15/30\n",
      "55000/55000 [==============================] - 2s 45us/sample - loss: 0.2991 - accuracy: 0.8921 - val_loss: 0.3186 - val_accuracy: 0.8880\n",
      "Epoch 16/30\n",
      "55000/55000 [==============================] - 2s 45us/sample - loss: 0.2931 - accuracy: 0.8949 - val_loss: 0.3237 - val_accuracy: 0.8836\n",
      "Epoch 17/30\n",
      "55000/55000 [==============================] - 2s 45us/sample - loss: 0.2878 - accuracy: 0.8965 - val_loss: 0.3278 - val_accuracy: 0.8832\n",
      "Epoch 18/30\n",
      "55000/55000 [==============================] - 2s 45us/sample - loss: 0.2821 - accuracy: 0.8999 - val_loss: 0.3083 - val_accuracy: 0.8910\n",
      "Epoch 19/30\n",
      "55000/55000 [==============================] - 3s 46us/sample - loss: 0.2764 - accuracy: 0.9004 - val_loss: 0.3142 - val_accuracy: 0.8908\n",
      "Epoch 20/30\n",
      "55000/55000 [==============================] - 3s 46us/sample - loss: 0.2723 - accuracy: 0.9025 - val_loss: 0.3132 - val_accuracy: 0.8906\n",
      "Epoch 21/30\n",
      "55000/55000 [==============================] - 2s 45us/sample - loss: 0.2667 - accuracy: 0.9027 - val_loss: 0.3174 - val_accuracy: 0.8854\n",
      "Epoch 22/30\n",
      "55000/55000 [==============================] - 2s 45us/sample - loss: 0.2614 - accuracy: 0.9055 - val_loss: 0.2996 - val_accuracy: 0.8934\n",
      "Epoch 23/30\n",
      "55000/55000 [==============================] - 3s 46us/sample - loss: 0.2579 - accuracy: 0.9081 - val_loss: 0.2950 - val_accuracy: 0.8936\n",
      "Epoch 24/30\n",
      "55000/55000 [==============================] - 2s 45us/sample - loss: 0.2528 - accuracy: 0.9093 - val_loss: 0.3106 - val_accuracy: 0.8870\n",
      "Epoch 25/30\n",
      "55000/55000 [==============================] - 2s 45us/sample - loss: 0.2491 - accuracy: 0.9110 - val_loss: 0.3279 - val_accuracy: 0.8834\n",
      "Epoch 26/30\n",
      "55000/55000 [==============================] - 2s 45us/sample - loss: 0.2437 - accuracy: 0.9113 - val_loss: 0.3005 - val_accuracy: 0.8922\n",
      "Epoch 27/30\n",
      "55000/55000 [==============================] - 2s 45us/sample - loss: 0.2405 - accuracy: 0.9135 - val_loss: 0.3077 - val_accuracy: 0.8860\n",
      "Epoch 28/30\n",
      "55000/55000 [==============================] - 2s 45us/sample - loss: 0.2361 - accuracy: 0.9151 - val_loss: 0.2973 - val_accuracy: 0.8960\n",
      "Epoch 29/30\n",
      "55000/55000 [==============================] - 2s 44us/sample - loss: 0.2322 - accuracy: 0.9168 - val_loss: 0.2994 - val_accuracy: 0.8928\n",
      "Epoch 30/30\n",
      "55000/55000 [==============================] - 2s 44us/sample - loss: 0.2283 - accuracy: 0.9189 - val_loss: 0.2870 - val_accuracy: 0.8926\n"
     ]
    }
   ],
   "source": [
    "history = model.fit(X_train, y_train, epochs=30, \n",
    "                    validation_data=(X_valid,y_valid))"
   ]
  },
  {
   "cell_type": "code",
   "execution_count": 33,
   "metadata": {},
   "outputs": [
    {
     "data": {
      "text/plain": [
       "{'batch_size': 32,\n",
       " 'epochs': 30,\n",
       " 'steps': 1719,\n",
       " 'samples': 55000,\n",
       " 'verbose': 0,\n",
       " 'do_validation': True,\n",
       " 'metrics': ['loss', 'accuracy', 'val_loss', 'val_accuracy']}"
      ]
     },
     "execution_count": 33,
     "metadata": {},
     "output_type": "execute_result"
    }
   ],
   "source": [
    "history.params"
   ]
  },
  {
   "cell_type": "code",
   "execution_count": 36,
   "metadata": {},
   "outputs": [
    {
     "data": {
      "text/plain": [
       "{'loss': [0.7223682985956018,\n",
       "  0.4947564394604076,\n",
       "  0.44802508129856805,\n",
       "  0.4196484719016335,\n",
       "  0.39993995835130863,\n",
       "  0.3835165087526495,\n",
       "  0.3697991550055417,\n",
       "  0.3577111726630818,\n",
       "  0.3473910493590615,\n",
       "  0.33842482429200954,\n",
       "  0.32880902249596333,\n",
       "  0.3205253321951086,\n",
       "  0.3122899998426437,\n",
       "  0.306469693498178,\n",
       "  0.29909581359083004,\n",
       "  0.2931331576889212,\n",
       "  0.28775002394806254,\n",
       "  0.28205479870709504,\n",
       "  0.27640809055458415,\n",
       "  0.2723044556942853,\n",
       "  0.2667009500850331,\n",
       "  0.2614359555883841,\n",
       "  0.2579382946469567,\n",
       "  0.2528232771645893,\n",
       "  0.2490648357413032,\n",
       "  0.24371447787772527,\n",
       "  0.24048340202895077,\n",
       "  0.2360901727123694,\n",
       "  0.23215109536431053,\n",
       "  0.22829796201315794],\n",
       " 'accuracy': [0.7591091,\n",
       "  0.82732725,\n",
       "  0.8432182,\n",
       "  0.85327274,\n",
       "  0.85963637,\n",
       "  0.86643636,\n",
       "  0.8692182,\n",
       "  0.87307274,\n",
       "  0.8778727,\n",
       "  0.8797455,\n",
       "  0.88356364,\n",
       "  0.8852364,\n",
       "  0.8880182,\n",
       "  0.8903818,\n",
       "  0.89214545,\n",
       "  0.8949091,\n",
       "  0.8965091,\n",
       "  0.8998727,\n",
       "  0.90043634,\n",
       "  0.9025091,\n",
       "  0.9026909,\n",
       "  0.90549093,\n",
       "  0.9080727,\n",
       "  0.90927273,\n",
       "  0.91098183,\n",
       "  0.9113455,\n",
       "  0.9135091,\n",
       "  0.9150909,\n",
       "  0.9168364,\n",
       "  0.91885453],\n",
       " 'val_loss': [0.5124915121078492,\n",
       "  0.48140500721931456,\n",
       "  0.43083464485406875,\n",
       "  0.398021731710434,\n",
       "  0.3862582328915596,\n",
       "  0.38987717763185503,\n",
       "  0.35936189645528793,\n",
       "  0.36528732118606566,\n",
       "  0.34551237617731095,\n",
       "  0.3420543613195419,\n",
       "  0.34031134568452837,\n",
       "  0.36303920538425444,\n",
       "  0.3283116232872009,\n",
       "  0.3213602659165859,\n",
       "  0.318601215916872,\n",
       "  0.32371392475366595,\n",
       "  0.32781322520971296,\n",
       "  0.3082569923996925,\n",
       "  0.314211381059885,\n",
       "  0.3132270549416542,\n",
       "  0.31738317203521726,\n",
       "  0.29955972567796707,\n",
       "  0.2949870453596115,\n",
       "  0.31064029975235463,\n",
       "  0.3279365381896496,\n",
       "  0.3004607965558767,\n",
       "  0.3077434210807085,\n",
       "  0.2972915891468525,\n",
       "  0.2993949495911598,\n",
       "  0.2869762137651444],\n",
       " 'val_accuracy': [0.8282,\n",
       "  0.8312,\n",
       "  0.8482,\n",
       "  0.8656,\n",
       "  0.8644,\n",
       "  0.8616,\n",
       "  0.8758,\n",
       "  0.8714,\n",
       "  0.877,\n",
       "  0.8798,\n",
       "  0.88,\n",
       "  0.872,\n",
       "  0.8876,\n",
       "  0.8834,\n",
       "  0.888,\n",
       "  0.8836,\n",
       "  0.8832,\n",
       "  0.891,\n",
       "  0.8908,\n",
       "  0.8906,\n",
       "  0.8854,\n",
       "  0.8934,\n",
       "  0.8936,\n",
       "  0.887,\n",
       "  0.8834,\n",
       "  0.8922,\n",
       "  0.886,\n",
       "  0.896,\n",
       "  0.8928,\n",
       "  0.8926]}"
      ]
     },
     "execution_count": 36,
     "metadata": {},
     "output_type": "execute_result"
    }
   ],
   "source": [
    "history.history"
   ]
  },
  {
   "cell_type": "code",
   "execution_count": 39,
   "metadata": {},
   "outputs": [],
   "source": [
    "# Looking at the learning curves\n",
    "import pandas as pd\n",
    "import matplotlib.pyplot as plt"
   ]
  },
  {
   "cell_type": "code",
   "execution_count": 40,
   "metadata": {},
   "outputs": [
    {
     "data": {
      "text/plain": [
       "(0, 1)"
      ]
     },
     "execution_count": 40,
     "metadata": {},
     "output_type": "execute_result"
    },
    {
     "data": {
      "image/png": "[encoded data removed]",
      "text/plain": [
       "<Figure size 576x360 with 1 Axes>"
      ]
     },
     "metadata": {
      "needs_background": "light"
     },
     "output_type": "display_data"
    }
   ],
   "source": [
    "pd.DataFrame(history.history).plot(figsize=(8, 5)) \n",
    "plt.grid(True)\n",
    "plt.gca().set_ylim(0, 1) # set the vertical range to [0-1] plt.show()"
   ]
  },
  {
   "cell_type": "code",
   "execution_count": 41,
   "metadata": {},
   "outputs": [],
   "source": [
    "# may be a little bit of overfitting. Not much they seem close to each other"
   ]
  },
  {
   "cell_type": "code",
   "execution_count": null,
   "metadata": {},
   "outputs": [],
   "source": [
    "# loss seems to be going down in the validation set. So, we could train further.\n",
    "#It’s as simple as calling the fit() method again, since Keras just continues train‐ ing where it left off "
   ]
  },
  {
   "cell_type": "code",
   "execution_count": 42,
   "metadata": {},
   "outputs": [
    {
     "name": "stdout",
     "output_type": "stream",
     "text": [
      "Train on 55000 samples, validate on 5000 samples\n",
      "Epoch 1/5\n",
      "55000/55000 [==============================] - 2s 44us/sample - loss: 0.2247 - accuracy: 0.9193 - val_loss: 0.3005 - val_accuracy: 0.8960\n",
      "Epoch 2/5\n",
      "55000/55000 [==============================] - 2s 44us/sample - loss: 0.2216 - accuracy: 0.9206 - val_loss: 0.2926 - val_accuracy: 0.8930\n",
      "Epoch 3/5\n",
      "55000/55000 [==============================] - 2s 42us/sample - loss: 0.2171 - accuracy: 0.9221 - val_loss: 0.2993 - val_accuracy: 0.8876\n",
      "Epoch 4/5\n",
      "55000/55000 [==============================] - 2s 43us/sample - loss: 0.2138 - accuracy: 0.9243 - val_loss: 0.2938 - val_accuracy: 0.8976\n",
      "Epoch 5/5\n",
      "55000/55000 [==============================] - 2s 43us/sample - loss: 0.2100 - accuracy: 0.9244 - val_loss: 0.2995 - val_accuracy: 0.8974\n"
     ]
    }
   ],
   "source": [
    "history = model.fit(X_train, y_train, epochs=5, \n",
    "                    validation_data=(X_valid,y_valid))"
   ]
  },
  {
   "cell_type": "code",
   "execution_count": 43,
   "metadata": {},
   "outputs": [
    {
     "name": "stdout",
     "output_type": "stream",
     "text": [
      "10000/10000 [==============================] - 0s 31us/sample - loss: 70.7952 - accuracy: 0.8477\n"
     ]
    },
    {
     "data": {
      "text/plain": [
       "[70.79522146884202, 0.8477]"
      ]
     },
     "execution_count": 43,
     "metadata": {},
     "output_type": "execute_result"
    }
   ],
   "source": [
    "# Evaluating the test set\n",
    "model.evaluate(X_test, y_test)"
   ]
  },
  {
   "cell_type": "code",
   "execution_count": null,
   "metadata": {},
   "outputs": [],
   "source": []
  }
 ],
 "metadata": {
  "kernelspec": {
   "display_name": "Python (vision-env)",
   "language": "python",
   "name": "vision-env"
  },
  "language_info": {
   "codemirror_mode": {
    "name": "ipython",
    "version": 3
   },
   "file_extension": ".py",
   "mimetype": "text/x-python",
   "name": "python",
   "nbconvert_exporter": "python",
   "pygments_lexer": "ipython3",
   "version": "3.7.6"
  }
 },
 "nbformat": 4,
 "nbformat_minor": 2
}
